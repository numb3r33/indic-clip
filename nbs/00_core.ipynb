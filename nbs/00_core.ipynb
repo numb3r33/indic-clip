{
 "cells": [
  {
   "cell_type": "markdown",
   "metadata": {},
   "source": [
    "# Core Utilities\n",
    "\n",
    "> Basic utilities, constants, and shared functions for the Indic-CLIP project."
   ]
  },
  {
   "cell_type": "code",
   "execution_count": null,
   "metadata": {},
   "outputs": [],
   "source": [
    "#| default_exp core"
   ]
  },
  {
   "cell_type": "code",
   "execution_count": null,
   "metadata": {},
   "outputs": [],
   "source": [
    "#| hide\n",
    "from nbdev.showdoc import *"
   ]
  },
  {
   "cell_type": "code",
   "execution_count": null,
   "metadata": {},
   "outputs": [],
   "source": [
    "#| export\n",
    "import os\n",
    "from pathlib import Path\n",
    "import logging"
   ]
  },
  {
   "cell_type": "markdown",
   "metadata": {},
   "source": [
    "## Constants"
   ]
  },
  {
   "cell_type": "code",
   "execution_count": null,
   "metadata": {},
   "outputs": [],
   "source": [
    "#| export\n",
    "# --- Project Root --- \n",
    "# Assumes the script/notebook is run from the project root or 'nbs' directory\n",
    "PROJECT_ROOT = Path(os.getenv(\"INDIC_CLIP_ROOT\", default=Path.cwd()))\n",
    "if PROJECT_ROOT.name == 'nbs':\n",
    "    PROJECT_ROOT = PROJECT_ROOT.parent\n",
    "\n",
    "# --- Data Paths ---\n",
    "DATA_PATH = PROJECT_ROOT / 'data'\n",
    "RAW_DATA_PATH = DATA_PATH / 'raw'\n",
    "HINDI_RAW_PATH = RAW_DATA_PATH / 'hindi'\n",
    "SANSKRIT_RAW_PATH = RAW_DATA_PATH / 'sanskrit'\n",
    "SYNTHETIC_RAW_PATH = RAW_DATA_PATH / 'synthetic'\n",
    "PROCESSED_DATA_PATH = DATA_PATH / 'processed'\n",
    "BENCHMARK_DATA_PATH = DATA_PATH / 'benchmarks'\n",
    "\n",
    "# --- Model Paths ---\n",
    "MODEL_PATH = PROJECT_ROOT / 'models'\n",
    "CHECKPOINT_PATH = MODEL_PATH / 'checkpoints'\n",
    "ONNX_PATH = MODEL_PATH / 'onnx'\n",
    "QUANTIZED_PATH = MODEL_PATH / 'quantized'\n",
    "\n",
    "# --- Tokenizer Paths/Files ---\n",
    "TOKENIZER_PATH = PROCESSED_DATA_PATH # Store tokenizer models/vocabs with processed data\n",
    "TOKENIZER_MODEL_FILE = TOKENIZER_PATH / 'indic_tokenizer.model'\n",
    "TOKENIZER_VOCAB_FILE = TOKENIZER_PATH / 'indic_tokenizer.vocab'\n",
    "\n",
    "# --- Special Tokens ---\n",
    "PAD_TOKEN = \"[PAD]\"\n",
    "UNK_TOKEN = \"[UNK]\"\n",
    "CLS_TOKEN = \"[CLS]\"\n",
    "SEP_TOKEN = \"[SEP]\"\n",
    "MASK_TOKEN = \"[MASK]\"\n",
    "SANSKRIT_TOKEN = \"<Sa>\"\n",
    "HINDI_TOKEN = \"<Hi>\"\n",
    "\n",
    "SPECIAL_TOKENS = [PAD_TOKEN, UNK_TOKEN, CLS_TOKEN, SEP_TOKEN, MASK_TOKEN, SANSKRIT_TOKEN, HINDI_TOKEN]\n",
    "\n",
    "# --- Default Values ---\n",
    "DEFAULT_IMAGE_SIZE = 224\n",
    "DEFAULT_BATCH_SIZE = 64\n",
    "DEFAULT_VOCAB_SIZE = 32000 # Example, adjust after tokenizer training\n",
    "DEFAULT_EMBED_DIM = 512     # Example, adjust based on chosen model architecture"
   ]
  },
  {
   "cell_type": "markdown",
   "metadata": {},
   "source": [
    "## Utility Functions"
   ]
  },
  {
   "cell_type": "code",
   "execution_count": null,
   "metadata": {},
   "outputs": [],
   "source": [
    "#| export\n",
    "def setup_logging(level=logging.INFO):\n",
    "    \"\"\"Configures basic logging for the project.\"\"\"\n",
    "    logging.basicConfig(\n",
    "        level=level,\n",
    "        format='%(asctime)s - %(name)s - %(levelname)s - %(message)s',\n",
    "        datefmt='%Y-%m-%d %H:%M:%S'\n",
    "    )\n",
    "\n",
    "def get_logger(name):\n",
    "    \"\"\"Returns a logger instance.\"\"\"\n",
    "    return logging.getLogger(name)"
   ]
  },
  {
   "cell_type": "code",
   "execution_count": null,
   "metadata": {},
   "outputs": [],
   "source": [
    "#| export\n",
    "# Example Usage (remove or comment out in final version if not needed in core export)\n",
    "if __name__ == '__main__':\n",
    "    setup_logging()\n",
    "    logger = get_logger(__name__)\n",
    "    logger.info(f\"Project Root: {PROJECT_ROOT}\")\n",
    "    logger.info(f\"Data Path: {DATA_PATH}\")\n",
    "    logger.info(f\"Model Path: {MODEL_PATH}\")\n",
    "    logger.info(f\"Special Tokens: {SPECIAL_TOKENS}\")"
   ]
  },
  {
   "cell_type": "code",
   "execution_count": null,
   "metadata": {},
   "outputs": [],
   "source": [
    "#| hide\n",
    "# Trigger export\n",
    "import nbdev; \n",
    "# nbdev.nbdev_export() # Run this manually in terminal after editing"
   ]
  }
 ],
 "metadata": {
  "kernelspec": {
   "display_name": "python3",
   "language": "python",
   "name": "python3"
  }
 },
 "nbformat": 4,
 "nbformat_minor": 4
}
