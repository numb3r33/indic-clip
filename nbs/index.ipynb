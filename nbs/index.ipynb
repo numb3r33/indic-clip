{
 "cells": [
  {
   "cell_type": "code",
   "execution_count": null,
   "metadata": {},
   "outputs": [],
   "source": [
    "#| hide\n",
    "# This cell is hidden in docs, used for notebook imports if needed\n",
    "try:\n",
    "    from indic_clip.core import *\n",
    "except ModuleNotFoundError:\n",
    "    pass # Allow execution even if library not fully built/installed yet"
   ]
  },
  {
   "cell_type": "markdown",
   "metadata": {},
   "source": [
    "# Indic-CLIP\n",
    "\n",
    "> Indic-CLIP: Multimodal Vision-Language Models for Indic Languages (Sanskrit, Hindi) using fast.ai. Focus on religious and e-commerce domains."
   ]
  },
  {
   "cell_type": "markdown",
   "metadata": {},
   "source": [
    "This file serves as the README and the index for the project documentation."
   ]
  },
  {
   "cell_type": "markdown",
   "metadata": {},
   "source": [
    "## Project Goal\n",
    "\n",
    "This project aims to adapt the CLIP (Contrastive Language-Image Pre-training) architecture for Indic languages, specifically Sanskrit and Hindi, using the fast.ai framework. Building upon the approach of Chinese-CLIP, we'll develop models that understand the relationship between images and text in Indic languages. The model will focus on religious content and e-commerce domains."
   ]
  },
  {
   "cell_type": "markdown",
   "metadata": {},
   "source": [
    "## Developer Guide"
   ]
  },
  {
   "cell_type": "markdown",
   "metadata": {},
   "source": [
    "This project uses [`nbdev`](https://nbdev.fast.ai/) for development, which allows creating Python libraries from Jupyter notebooks."
   ]
  },
  {
   "cell_type": "markdown",
   "metadata": {},
   "source": [
    "### Setup Development Environment"
   ]
  },
  {
   "cell_type": "markdown",
   "metadata": {},
   "source": [
    "1.  **Clone the repository:**\n",
    "    ```sh\n",
    "    git clone https://github.com/numb3r33/indic-clip.git # Replace with your repo URL if different\n",
    "    cd indic-clip\n",
    "    ```\n",
    "2.  **Install dependencies:**\n",
    "    It's recommended to use a virtual environment (e.g., `conda` or `venv`).\n",
    "    ```sh\n",
    "    # Using pip and venv\n",
    "    python -m venv venv\n",
    "    source venv/bin/activate # On Windows use `venv\\Scripts\\activate`\n",
    "    pip install -r requirements.txt\n",
    "\n",
    "    # Or using conda\n",
    "    # conda create -n indic-clip python=3.9\n",
    "    # conda activate indic-clip\n",
    "    # pip install -r requirements.txt # Often easier than managing all via conda channels\n",
    "    ```\n",
    "3.  **Install the library in editable mode:**\n",
    "    This links the installed package to your source code, so changes in notebooks are reflected after running `nbdev_prepare`.\n",
    "    ```sh\n",
    "    pip install -e .\n",
    "    ```\n",
    "4.  **(Optional) Install Git hooks for nbdev:**\n",
    "    This helps keep notebooks clean and synchronized.\n",
    "    ```sh\n",
    "    nbdev_install_hooks\n",
    "    ```"
   ]
  },
  {
   "cell_type": "markdown",
   "metadata": {},
   "source": [
    "### Development Workflow"
   ]
  },
  {
   "cell_type": "markdown",
   "metadata": {},
   "source": [
    "1.  **Make changes** in the Jupyter notebooks under the `nbs/` directory.\n",
    "2.  **Export changes** from notebooks to the Python library (`indic_clip/`):\n",
    "    ```sh\n",
    "    nbdev_export\n",
    "    ```\n",
    "3.  **Prepare the project** (cleans notebooks, runs tests, builds docs):\n",
    "    ```sh\n",
    "    nbdev_prepare\n",
    "    ```\n",
    "4.  **Commit** your changes to Git."
   ]
  },
  {
   "cell_type": "markdown",
   "metadata": {},
   "source": [
    "## Usage (Placeholder)"
   ]
  },
  {
   "cell_type": "markdown",
   "metadata": {},
   "source": [
    "Details on how to use the trained models and the library API will be added here once implemented."
   ]
  },
  {
   "cell_type": "code",
   "execution_count": null,
   "metadata": {},
   "outputs": [
    {
     "data": {
      "text/plain": [
       "2"
      ]
     },
     "execution_count": null,
     "metadata": {},
     "output_type": "execute_result"
    }
   ],
   "source": [
    "# Example placeholder (can be removed)\n",
    "1+1"
   ]
  }
 ],
 "metadata": {
  "kernelspec": {
   "display_name": "python3",
   "language": "python",
   "name": "python3"
  }
 },
 "nbformat": 4,
 "nbformat_minor": 4
}
